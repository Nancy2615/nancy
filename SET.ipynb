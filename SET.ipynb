{
  "nbformat": 4,
  "nbformat_minor": 0,
  "metadata": {
    "colab": {
      "provenance": [],
      "authorship_tag": "ABX9TyOMtmKdSbupYu9SxmJ0XfmX",
      "include_colab_link": true
    },
    "kernelspec": {
      "name": "python3",
      "display_name": "Python 3"
    },
    "language_info": {
      "name": "python"
    }
  },
  "cells": [
    {
      "cell_type": "markdown",
      "metadata": {
        "id": "view-in-github",
        "colab_type": "text"
      },
      "source": [
        "<a href=\"https://colab.research.google.com/github/Nancy2615/nancy/blob/main/SET.ipynb\" target=\"_parent\"><img src=\"https://colab.research.google.com/assets/colab-badge.svg\" alt=\"Open In Colab\"/></a>"
      ]
    },
    {
      "cell_type": "code",
      "execution_count": 12,
      "metadata": {
        "id": "pYyS_kjMdmQu"
      },
      "outputs": [],
      "source": [
        "import seaborn as sns\n",
        "import matplotlib.pyplot as plt\n"
      ]
    },
    {
      "cell_type": "code",
      "source": [
        "sns.barplot(x=[\"A\",\"B\",\"C\"],y=[1,3,2])\n",
        "plt.show()"
      ],
      "metadata": {
        "colab": {
          "base_uri": "https://localhost:8080/",
          "height": 989
        },
        "id": "5N18GTFXfCzE",
        "outputId": "5eaddec6-5e58-41e9-a79d-4d77dcb90fe5"
      },
      "execution_count": 13,
      "outputs": [
        {
          "output_type": "stream",
          "name": "stderr",
          "text": [
            "WARNING:matplotlib.font_manager:findfont: Font family 'Verdana' not found.\n",
            "WARNING:matplotlib.font_manager:findfont: Font family 'Verdana' not found.\n",
            "WARNING:matplotlib.font_manager:findfont: Font family 'Verdana' not found.\n",
            "WARNING:matplotlib.font_manager:findfont: Font family 'Verdana' not found.\n",
            "WARNING:matplotlib.font_manager:findfont: Font family 'Verdana' not found.\n",
            "WARNING:matplotlib.font_manager:findfont: Font family 'Verdana' not found.\n",
            "WARNING:matplotlib.font_manager:findfont: Font family 'Verdana' not found.\n",
            "WARNING:matplotlib.font_manager:findfont: Font family 'Verdana' not found.\n",
            "WARNING:matplotlib.font_manager:findfont: Font family 'Verdana' not found.\n",
            "WARNING:matplotlib.font_manager:findfont: Font family 'Verdana' not found.\n",
            "WARNING:matplotlib.font_manager:findfont: Font family 'Verdana' not found.\n",
            "WARNING:matplotlib.font_manager:findfont: Font family 'Verdana' not found.\n",
            "WARNING:matplotlib.font_manager:findfont: Font family 'Verdana' not found.\n",
            "WARNING:matplotlib.font_manager:findfont: Font family 'Verdana' not found.\n",
            "WARNING:matplotlib.font_manager:findfont: Font family 'Verdana' not found.\n",
            "WARNING:matplotlib.font_manager:findfont: Font family 'Verdana' not found.\n",
            "WARNING:matplotlib.font_manager:findfont: Font family 'Verdana' not found.\n",
            "WARNING:matplotlib.font_manager:findfont: Font family 'Verdana' not found.\n",
            "WARNING:matplotlib.font_manager:findfont: Font family 'Verdana' not found.\n",
            "WARNING:matplotlib.font_manager:findfont: Font family 'Verdana' not found.\n",
            "WARNING:matplotlib.font_manager:findfont: Font family 'Verdana' not found.\n",
            "WARNING:matplotlib.font_manager:findfont: Font family 'Verdana' not found.\n",
            "WARNING:matplotlib.font_manager:findfont: Font family 'Verdana' not found.\n",
            "WARNING:matplotlib.font_manager:findfont: Font family 'Verdana' not found.\n",
            "WARNING:matplotlib.font_manager:findfont: Font family 'Verdana' not found.\n",
            "WARNING:matplotlib.font_manager:findfont: Font family 'Verdana' not found.\n",
            "WARNING:matplotlib.font_manager:findfont: Font family 'Verdana' not found.\n",
            "WARNING:matplotlib.font_manager:findfont: Font family 'Verdana' not found.\n",
            "WARNING:matplotlib.font_manager:findfont: Font family 'Verdana' not found.\n",
            "WARNING:matplotlib.font_manager:findfont: Font family 'Verdana' not found.\n",
            "WARNING:matplotlib.font_manager:findfont: Font family 'Verdana' not found.\n",
            "WARNING:matplotlib.font_manager:findfont: Font family 'Verdana' not found.\n"
          ]
        },
        {
          "output_type": "display_data",
          "data": {
            "text/plain": [
              "<Figure size 640x480 with 1 Axes>"
            ],
            "image/png": "[encoded data removed]"
          },
          "metadata": {}
        }
      ]
    },
    {
      "cell_type": "code",
      "source": [
        "sns.set(style='dark', palette='dark', font=\"Verdana\", font_scale=1)\n",
        "sns.barplot(x=['A','B','C'], y=[1,3,2])\n",
        "plt.show()"
      ],
      "metadata": {
        "colab": {
          "base_uri": "https://localhost:8080/",
          "height": 989
        },
        "id": "e_BHk0uff0zE",
        "outputId": "849797dd-7220-4427-a602-b1d585fb5567"
      },
      "execution_count": 10,
      "outputs": [
        {
          "output_type": "stream",
          "name": "stderr",
          "text": [
            "WARNING:matplotlib.font_manager:findfont: Font family 'Verdana' not found.\n",
            "WARNING:matplotlib.font_manager:findfont: Font family 'Verdana' not found.\n",
            "WARNING:matplotlib.font_manager:findfont: Font family 'Verdana' not found.\n",
            "WARNING:matplotlib.font_manager:findfont: Font family 'Verdana' not found.\n",
            "WARNING:matplotlib.font_manager:findfont: Font family 'Verdana' not found.\n",
            "WARNING:matplotlib.font_manager:findfont: Font family 'Verdana' not found.\n",
            "WARNING:matplotlib.font_manager:findfont: Font family 'Verdana' not found.\n",
            "WARNING:matplotlib.font_manager:findfont: Font family 'Verdana' not found.\n",
            "WARNING:matplotlib.font_manager:findfont: Font family 'Verdana' not found.\n",
            "WARNING:matplotlib.font_manager:findfont: Font family 'Verdana' not found.\n",
            "WARNING:matplotlib.font_manager:findfont: Font family 'Verdana' not found.\n",
            "WARNING:matplotlib.font_manager:findfont: Font family 'Verdana' not found.\n",
            "WARNING:matplotlib.font_manager:findfont: Font family 'Verdana' not found.\n",
            "WARNING:matplotlib.font_manager:findfont: Font family 'Verdana' not found.\n",
            "WARNING:matplotlib.font_manager:findfont: Font family 'Verdana' not found.\n",
            "WARNING:matplotlib.font_manager:findfont: Font family 'Verdana' not found.\n",
            "WARNING:matplotlib.font_manager:findfont: Font family 'Verdana' not found.\n",
            "WARNING:matplotlib.font_manager:findfont: Font family 'Verdana' not found.\n",
            "WARNING:matplotlib.font_manager:findfont: Font family 'Verdana' not found.\n",
            "WARNING:matplotlib.font_manager:findfont: Font family 'Verdana' not found.\n",
            "WARNING:matplotlib.font_manager:findfont: Font family 'Verdana' not found.\n",
            "WARNING:matplotlib.font_manager:findfont: Font family 'Verdana' not found.\n",
            "WARNING:matplotlib.font_manager:findfont: Font family 'Verdana' not found.\n",
            "WARNING:matplotlib.font_manager:findfont: Font family 'Verdana' not found.\n",
            "WARNING:matplotlib.font_manager:findfont: Font family 'Verdana' not found.\n",
            "WARNING:matplotlib.font_manager:findfont: Font family 'Verdana' not found.\n",
            "WARNING:matplotlib.font_manager:findfont: Font family 'Verdana' not found.\n",
            "WARNING:matplotlib.font_manager:findfont: Font family 'Verdana' not found.\n",
            "WARNING:matplotlib.font_manager:findfont: Font family 'Verdana' not found.\n",
            "WARNING:matplotlib.font_manager:findfont: Font family 'Verdana' not found.\n",
            "WARNING:matplotlib.font_manager:findfont: Font family 'Verdana' not found.\n",
            "WARNING:matplotlib.font_manager:findfont: Font family 'Verdana' not found.\n"
          ]
        },
        {
          "output_type": "display_data",
          "data": {
            "text/plain": [
              "<Figure size 640x480 with 1 Axes>"
            ],
            "image/png": "[encoded data removed]"
          },
          "metadata": {}
        }
      ]
    }
  ]
}